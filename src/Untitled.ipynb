{
 "cells": [
  {
   "cell_type": "code",
   "execution_count": 20,
   "id": "6198dc8c-d1f6-41f9-b63a-45abf0012a35",
   "metadata": {},
   "outputs": [],
   "source": []
  },
  {
   "cell_type": "code",
   "execution_count": 1,
   "id": "dc759f4f-48ce-4186-92b8-579e63b2d102",
   "metadata": {},
   "outputs": [],
   "source": [
    "token = \"5677978685:AAHW7RuuniCaJQgStKHucealE11zc6Prh-g\""
   ]
  },
  {
   "cell_type": "code",
   "execution_count": 2,
   "id": "611a9db0-1268-4d32-8cfc-34be9f4c0e0f",
   "metadata": {},
   "outputs": [
    {
     "ename": "NameError",
     "evalue": "name 'telebot' is not defined",
     "output_type": "error",
     "traceback": [
      "\u001b[0;31m---------------------------------------------------------------------------\u001b[0m",
      "\u001b[0;31mNameError\u001b[0m                                 Traceback (most recent call last)",
      "\u001b[1;32m/home/bahram/projects/Unknwon_bot/src/Untitled.ipynb Cell 3\u001b[0m in \u001b[0;36m<cell line: 1>\u001b[0;34m()\u001b[0m\n\u001b[0;32m----> <a href='vscode-notebook-cell:/home/bahram/projects/Unknwon_bot/src/Untitled.ipynb#W2sZmlsZQ%3D%3D?line=0'>1</a>\u001b[0m bot \u001b[39m=\u001b[39m telebot\u001b[39m.\u001b[39mTeleBot(token, parse_mode\u001b[39m=\u001b[39m\u001b[39mNone\u001b[39;00m)\n",
      "\u001b[0;31mNameError\u001b[0m: name 'telebot' is not defined"
     ]
    }
   ],
   "source": [
    "bot = telebot.TeleBot(token, parse_mode=None)"
   ]
  },
  {
   "cell_type": "code",
   "execution_count": 3,
   "id": "d2ca12c9-9127-4c61-a811-9c05621e86f3",
   "metadata": {},
   "outputs": [
    {
     "name": "stdout",
     "output_type": "stream",
     "text": [
      "started...\n"
     ]
    },
    {
     "ename": "NameError",
     "evalue": "name 'bot' is not defined",
     "output_type": "error",
     "traceback": [
      "\u001b[0;31m---------------------------------------------------------------------------\u001b[0m",
      "\u001b[0;31mNameError\u001b[0m                                 Traceback (most recent call last)",
      "\u001b[1;32m/home/bahram/projects/Unknwon_bot/src/Untitled.ipynb Cell 4\u001b[0m in \u001b[0;36m<cell line: 2>\u001b[0;34m()\u001b[0m\n\u001b[1;32m      <a href='vscode-notebook-cell:/home/bahram/projects/Unknwon_bot/src/Untitled.ipynb#W3sZmlsZQ%3D%3D?line=0'>1</a>\u001b[0m \u001b[39mprint\u001b[39m(\u001b[39m\"\u001b[39m\u001b[39mstarted...\u001b[39m\u001b[39m\"\u001b[39m)\n\u001b[0;32m----> <a href='vscode-notebook-cell:/home/bahram/projects/Unknwon_bot/src/Untitled.ipynb#W3sZmlsZQ%3D%3D?line=1'>2</a>\u001b[0m bot\u001b[39m.\u001b[39minfinity_polling()\n\u001b[1;32m      <a href='vscode-notebook-cell:/home/bahram/projects/Unknwon_bot/src/Untitled.ipynb#W3sZmlsZQ%3D%3D?line=2'>3</a>\u001b[0m \u001b[39mprint\u001b[39m(\u001b[39m\"\u001b[39m\u001b[39mdone...\u001b[39m\u001b[39m\"\u001b[39m)\n",
      "\u001b[0;31mNameError\u001b[0m: name 'bot' is not defined"
     ]
    }
   ],
   "source": [
    "print(\"started...\")\n",
    "bot.infinity_polling()\n",
    "print(\"done...\")"
   ]
  },
  {
   "cell_type": "code",
   "execution_count": null,
   "id": "482b721d-cc5f-41e4-af5b-3a6f415c8cca",
   "metadata": {},
   "outputs": [],
   "source": [
    "@bot.message_handler(commands=['start', 'help'])\n",
    "def send_welcome(message):\n",
    "    bot.reply_to(message, \"Howdy, how are you doing?\")"
   ]
  },
  {
   "cell_type": "code",
   "execution_count": null,
   "id": "6cd1561d-b558-4aa1-a0a1-e27ef83ed0fa",
   "metadata": {},
   "outputs": [],
   "source": []
  }
 ],
 "metadata": {
  "kernelspec": {
   "display_name": "Python 3.8.13 ('telebot')",
   "language": "python",
   "name": "python3"
  },
  "language_info": {
   "codemirror_mode": {
    "name": "ipython",
    "version": 3
   },
   "file_extension": ".py",
   "mimetype": "text/x-python",
   "name": "python",
   "nbconvert_exporter": "python",
   "pygments_lexer": "ipython3",
   "version": "3.8.13"
  },
  "vscode": {
   "interpreter": {
    "hash": "6c50e87f3fa3cec00c212b014ef99cdc3ee34e6f3c392f3b17d7622c4d09d51c"
   }
  }
 },
 "nbformat": 4,
 "nbformat_minor": 5
}
